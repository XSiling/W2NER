{
 "cells": [
  {
   "cell_type": "code",
   "execution_count": 1,
   "metadata": {},
   "outputs": [],
   "source": [
    "import json"
   ]
  },
  {
   "cell_type": "code",
   "execution_count": 2,
   "metadata": {},
   "outputs": [],
   "source": [
    "with open('../data/example/train.json','r') as fp:\n",
    "    data = json.load(fp)"
   ]
  },
  {
   "cell_type": "code",
   "execution_count": 5,
   "metadata": {},
   "outputs": [
    {
     "data": {
      "text/plain": [
       "{'sentence': ['headaches',\n",
       "  ',',\n",
       "  'pain',\n",
       "  'in',\n",
       "  'throat',\n",
       "  ',',\n",
       "  'tingling',\n",
       "  'in',\n",
       "  'side',\n",
       "  'of',\n",
       "  'face',\n",
       "  ',',\n",
       "  'severe',\n",
       "  'bouts',\n",
       "  'of',\n",
       "  'anxiety',\n",
       "  'and',\n",
       "  'depression',\n",
       "  '-',\n",
       "  'loss',\n",
       "  'of',\n",
       "  'reason',\n",
       "  'to',\n",
       "  'live',\n",
       "  '!'],\n",
       " 'ner': [{'index': [0], 'type': 'ADR'},\n",
       "  {'index': [2, 3, 4], 'type': 'ADR'},\n",
       "  {'index': [6, 7, 8, 9, 10], 'type': 'ADR'},\n",
       "  {'index': [15], 'type': 'ADR'},\n",
       "  {'index': [17], 'type': 'ADR'},\n",
       "  {'index': [19, 20, 21, 22, 23], 'type': 'ADR'}]}"
      ]
     },
     "execution_count": 5,
     "metadata": {},
     "output_type": "execute_result"
    }
   ],
   "source": [
    "data[0]"
   ]
  }
 ],
 "metadata": {
  "kernelspec": {
   "display_name": "Python 3",
   "language": "python",
   "name": "python3"
  },
  "language_info": {
   "codemirror_mode": {
    "name": "ipython",
    "version": 3
   },
   "file_extension": ".py",
   "mimetype": "text/x-python",
   "name": "python",
   "nbconvert_exporter": "python",
   "pygments_lexer": "ipython3",
   "version": "3.11.7"
  }
 },
 "nbformat": 4,
 "nbformat_minor": 2
}
