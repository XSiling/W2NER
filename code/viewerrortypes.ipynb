{
 "cells": [
  {
   "cell_type": "code",
   "execution_count": 1,
   "metadata": {},
   "outputs": [],
   "source": [
    "import json\n",
    "import matplotlib.pyplot as plt\n",
    "import matplotlib\n",
    "from collections import defaultdict\n",
    "\n",
    "output_file = '../data/cadec/output.json'\n",
    "gt_file = '../data/cadec/test.json'\n",
    "train_file = '../data/cadec/train.json'\n",
    "with open(output_file,'r') as fp:\n",
    "    output = json.load(fp)\n",
    "with open(gt_file, 'r') as fp:\n",
    "    gt = json.load(fp)\n",
    "with open(train_file, 'r') as fp:\n",
    "    train = json.load(fp)"
   ]
  },
  {
   "cell_type": "code",
   "execution_count": 17,
   "metadata": {},
   "outputs": [],
   "source": [
    "# discontinuous entities\n",
    "# l is the index list\n",
    "def isDiscontinuous(l):\n",
    "    lastIndex = l[0]\n",
    "    for idx in range(1, len(l)):\n",
    "        if l[idx] != (lastIndex + 1):\n",
    "            return True\n",
    "        lastIndex = l[idx]\n",
    "\n",
    "# ner_list is the ner map in the groundtruth\n",
    "def overlapCount(ner_list):\n",
    "    position_set = [0 for i in range(200)]\n",
    "    overlap_cnt = 0\n",
    "    for ner in ner_list:\n",
    "        ner_index = ner['index']\n",
    "        for idx in ner_index:\n",
    "            if position_set[idx] == 0:\n",
    "                position_set[idx] = 1\n",
    "            else:\n",
    "                overlap_cnt += 1\n",
    "                break\n",
    "    return overlap_cnt\n",
    "\n",
    "# ner: the list of index for an entity\n",
    "# ner_list: the list of above (list + type)\n",
    "# check whether ner is an overlapped ner in the ner_list\n",
    "def isOverlap(target_ner, ner_list):\n",
    "    position_set = [0 for i in range(200)]\n",
    "    for ner in ner_list:\n",
    "        if target_ner == ner['index']:\n",
    "            continue\n",
    "        else:\n",
    "            ner_index = ner['index']\n",
    "            for idx in ner_index:\n",
    "                position_set[idx] = 1\n",
    "    for idx in target_ner:\n",
    "        if position_set[idx] == 1:\n",
    "            return True\n",
    "    return False\n"
   ]
  },
  {
   "cell_type": "code",
   "execution_count": 3,
   "metadata": {},
   "outputs": [
    {
     "data": {
      "text/plain": [
       "{'sentence': ['Brain', 'fog', 'and', 'decreased', 'cognitive', 'skills', '.'],\n",
       " 'ner': [{'index': [0, 1], 'type': 'ADR'},\n",
       "  {'index': [3, 4, 5], 'type': 'ADR'}]}"
      ]
     },
     "execution_count": 3,
     "metadata": {},
     "output_type": "execute_result"
    }
   ],
   "source": [
    "gt[0]"
   ]
  },
  {
   "cell_type": "code",
   "execution_count": 5,
   "metadata": {},
   "outputs": [
    {
     "data": {
      "text/plain": [
       "['Lowered', 'my', 'Cholesterol', 'from', '255', 'to', '173', '.']"
      ]
     },
     "execution_count": 5,
     "metadata": {},
     "output_type": "execute_result"
    }
   ],
   "source": [
    "sentence"
   ]
  },
  {
   "cell_type": "code",
   "execution_count": 6,
   "metadata": {},
   "outputs": [
    {
     "data": {
      "text/plain": [
       "[]"
      ]
     },
     "execution_count": 6,
     "metadata": {},
     "output_type": "execute_result"
    }
   ],
   "source": [
    "ners"
   ]
  },
  {
   "cell_type": "code",
   "execution_count": 9,
   "metadata": {},
   "outputs": [
    {
     "data": {
      "text/plain": [
       "[{'text': ['decreased', 'cognitive', 'skills'], 'type': 'adr'},\n",
       " {'text': ['Brain', 'fog'], 'type': 'adr'}]"
      ]
     },
     "execution_count": 9,
     "metadata": {},
     "output_type": "execute_result"
    }
   ],
   "source": [
    "output[0]['entity']"
   ]
  },
  {
   "cell_type": "code",
   "execution_count": 26,
   "metadata": {},
   "outputs": [
    {
     "name": "stdout",
     "output_type": "stream",
     "text": [
      "['Did', 'help', 'lower', 'my', 'bad', 'cholesterol', 'but', 'caused', 'me', 'to', 'crave', 'sweets', 'and', 'carbohydrates', '.']\n",
      "['Did', 'help', 'lower', 'my', 'bad', 'cholesterol', 'but', 'caused', 'me', 'to', 'crave', 'sweets', 'and', 'carbohydrates', '.']\n",
      "['Severe', 'muscle', 'cramps', ',', 'charlie', 'horse', 'in', 'my', 'calves', 'and', 'feet', 'so', 'bad', 'at', 'night', 'that', 'it', 'brings', 'me', 'out', 'of', 'bed', 'screaming', '.']\n",
      "['Shoulder', 'pain', ',', 'tendonitis', 'in', 'my', 'shoulders', 'and', 'elbows', '.']\n",
      "['Reduced', 'cholesterol', 'levels', 'to', 'normal', 'BUT', 'since', 'taking', 'lipitor', 'I', \"'\", 've', 'developed', 'horrible', 'pain', 'in', 'both', 'shoulders', 'and', 'left', 'knee', '.']\n",
      "['my', 'partner', 'is', 'currently', 'taking', 'this', 'medication', 'liptor', ',', 'he', 'also', 'takes', 'high', 'blood', 'pressure', 'medication', ',', 'my', 'reason', 'for', 'initally', 'looking', 'for', 'side', 'effects', 'of', 'liptor', 'was', 'because', 'of', 'my', 'partners', 'decreased', 'libido', 'and', 'to', 'see', 'if', 'there', 'is', 'a', 'connection', 'between', 'this', 'and', 'the', 'medication', ',', 'however', 'i', 'noticed', 'a', 'small', 'number', 'of', 'people', 'are', 'suffering', 'in', 'this', 'way', ',', 'i', 'cannot', 'believe', 'the', 'amount', 'of', 'things', 'that', 'are', 'causing', 'such', 'a', 'big', 'problem', 'for', 'so', 'many', 'people', 'taking', 'this', 'drug', ',', 'my', 'partner', 'is', 'normally', 'very', 'muscular', 'as', 'works', 'out', 'twice', 'a', 'week', 'and', 'has', 'done', 'for', 'years', ',', 'but', 'over', 'the', 'last', '6', 'mths', 'or', 'so', 'seems', 'to', 'have', 'lost', 'a', 'lot', 'of', 'muscle', 'and', 'replacedit', 'with', 'fat', ',', 'especially', 'around', 'the', 'midrif', ',', 'he', 'also', 'suffers', 'from', 'regular', 'dioreaha', 'and', 'muscle', 'pain', 'in', 'back', 'and', 'just', 'below', 'shoulder', 'blades', ',', 'very', 'often', 'also', 'suffers', 'from', 'headaches', ',', 'doesnt', 'sleep', 'very', 'well', 'at', 'night', 'at', 'all', ',', 'also', 'gets', 'tired', 'a', 'lot', ',', 'my', 'partner', 'isnt', 'aware', 'of', 'this', 'website', 'but', 'i', 'will', 'be', 'definetly', 'showing', 'this', 'to', 'him', 'and', 'advising', 'him', 'to', 'perhaps', 'stop', 'taking', 'this', 'medication', 'for', 'a', 'few', 'weeks', 'to', 'see', 'what', 'the', 'difference', 'is', ',', 'so', 'glad', 'to', 'have', 'found', 'this', 'site', '.']\n",
      "['Deep', 'depression', ',', 'insomnia', ',', 'joint', 'stiffness', 'in', 'hands', 'and', 'feet', ',', 'inability', 'to', 'think', 'clearly', 'to', 'the', 'point', 'I', 'thought', 'I', 'would', 'have', 'to', 'quit', 'my', 'job', '.']\n",
      "['Deep', 'depression', ',', 'insomnia', ',', 'joint', 'stiffness', 'in', 'hands', 'and', 'feet', ',', 'inability', 'to', 'think', 'clearly', 'to', 'the', 'point', 'I', 'thought', 'I', 'would', 'have', 'to', 'quit', 'my', 'job', '.']\n",
      "['dosage', 'was', 'increased', 'from', '10', 'to', '20', 'mg', 'and', 'the', 'tingling', 'and', 'numbness', 'in', 'my', 'feet', 'and', 'shins', 'escalated', '.']\n",
      "['dosage', 'was', 'increased', 'from', '10', 'to', '20', 'mg', 'and', 'the', 'tingling', 'and', 'numbness', 'in', 'my', 'feet', 'and', 'shins', 'escalated', '.']\n",
      "['dosage', 'was', 'increased', 'from', '10', 'to', '20', 'mg', 'and', 'the', 'tingling', 'and', 'numbness', 'in', 'my', 'feet', 'and', 'shins', 'escalated', '.']\n",
      "['I', 'can', \"'\", 't', 'even', 'sleep', 'at', 'night', 'because', 'of', 'the', 'sensations', 'of', 'tingling', 'in', 'my', 'legs', 'and', 'feet', '.']\n",
      "['I', 'can', \"'\", 't', 'even', 'sleep', 'at', 'night', 'because', 'of', 'the', 'sensations', 'of', 'tingling', 'in', 'my', 'legs', 'and', 'feet', '.']\n",
      "['my', 'legs', 'and', 'arms', 'started', 'going', 'numb', 'and', 'tingling', '.']\n",
      "['my', 'legs', 'and', 'arms', 'started', 'going', 'numb', 'and', 'tingling', '.']\n",
      "['my', 'legs', 'and', 'arms', 'started', 'going', 'numb', 'and', 'tingling', '.']\n",
      "['Joint', 'and', 'Muscle', 'Pain', '/', 'Stiffness', '.']\n",
      "['Joint', 'and', 'Muscle', 'Pain', '/', 'Stiffness', '.']\n",
      "['Blood', 'sugar', 'and', 'blood', 'pressure', 'both', 'now', 'elevated', '.']\n",
      "['Blood', 'sugar', 'and', 'blood', 'pressure', 'both', 'now', 'elevated', '.']\n",
      "['muscle', 'pain', 'and', 'weakness', ',', 'headaches', ',', 'sleep', 'disturbances', '.']\n",
      "['lots', 'of', 'pain', 'in', 'the', 'muscles', 'there', ',', 'very', 'tight', '.']\n",
      "['lots', 'of', 'pain', 'in', 'the', 'muscles', 'there', ',', 'very', 'tight', '.']\n",
      "['Now', 'the', 'pain', 'has', 'gone', 'into', 'my', 'shoulder', 'and', 'upper', 'arm', 'on', 'my', 'left', 'side', '.']\n",
      "['Now', 'the', 'pain', 'has', 'gone', 'into', 'my', 'shoulder', 'and', 'upper', 'arm', 'on', 'my', 'left', 'side', '.']\n",
      "['I', 'could', 'barely', 'get', 'out', 'of', 'bed', 'in', 'the', 'morning', 'or', 'walk', 'up', 'stairs', '.']\n",
      "['Lipitor', 'caused', 'permanent', 'liver', 'and', 'kidney', 'damage', 'to', 'me', 'and', 'is', 'a', 'killer', '.']\n",
      "['About', 'a', 'week', 'ago', 'I', 'was', 'taking', 'a', 'bath', 'and', 'my', 'muscles', 'in', 'my', 'lower', 'abdomen', 'started', 'to', 'contract', 'then', 'the', 'cramp', 'got', 'higher', '.']\n",
      "['Pain', 'and', 'cramping', 'in', 'my', 'hands', 'and', 'lower', 'legs', '.']\n",
      "['Pain', 'and', 'cramping', 'in', 'my', 'hands', 'and', 'lower', 'legs', '.']\n",
      "['Pain', 'and', 'cramping', 'in', 'my', 'hands', 'and', 'lower', 'legs', '.']\n",
      "['Numbness', 'in', 'all', 'of', 'my', 'finger', 'tips', 'and', 'toes', '.']\n",
      "['Numbness', 'in', 'all', 'of', 'my', 'finger', 'tips', 'and', 'toes', '.']\n",
      "['Still', 'have', 'finger', 'and', 'hand', 'numbness', 'on', 'and', 'off', 'all', 'day', 'and', 'night', '.']\n",
      "['Severe', 'muscle', 'and', 'joint', 'pain', 'in', 'left', 'leg', '.']\n",
      "['Severe', 'muscle', 'and', 'joint', 'pain', 'in', 'left', 'leg', '.']\n",
      "['Levels', 'almost', 'normal', ';', 'muscles', 'in', 'entire', 'body', 'stiff', 'and', 'slightly', 'sore', ';', 'will', 'be', 'going', 'for', 'some', 'physical', 'therapy', '.']\n",
      "['Levels', 'almost', 'normal', ';', 'muscles', 'in', 'entire', 'body', 'stiff', 'and', 'slightly', 'sore', ';', 'will', 'be', 'going', 'for', 'some', 'physical', 'therapy', '.']\n",
      "['After', '6', 'months', ',', 'my', 'speech', 'and', 'swallowing', 'were', 'so', 'bad', 'that', 'I', 'stopped', 'the', 'Lipitor', '.']\n",
      "['After', '6', 'months', ',', 'my', 'speech', 'and', 'swallowing', 'were', 'so', 'bad', 'that', 'I', 'stopped', 'the', 'Lipitor', '.']\n",
      "['Had', 'Pfizer', 'just', 'mentioned', 'in', 'their', 'precautions', 'that', 'Lipitor', 'just', 'might', 'cause', 'speech', 'and', 'swallowing', 'problems', ',', 'I', 'would', 'have', 'stopped', 'taking', 'statin', 'drugs', '6', 'months', 'earlier', 'and', 'I', 'would', 'have', 'been', 'OK', 'again', '.']\n",
      "['be', 'very', 'aware', 'of', 'any', 'physical', '/', 'emotional', 'changes', '.']\n",
      "['be', 'very', 'aware', 'of', 'any', 'physical', '/', 'emotional', 'changes', '.']\n",
      "['to', 'add', 'to', 'this', 'i', 'couldnt', 'pass', 'urine', ',', 'when', 'i', 'eventualy', 'did', 'it', 'was', 'full', 'of', 'blood', '.']\n",
      "['Numbness', 'started', 'in', 'left', 'toe', '&', 'went', 'to', 'right', 'toe', 'then', 'went', 'to', 'all', 'toes', '.']\n",
      "['Numbness', 'started', 'in', 'left', 'toe', '&', 'went', 'to', 'right', 'toe', 'then', 'went', 'to', 'all', 'toes', '.']\n",
      "['Numbness', 'started', 'in', 'left', 'toe', '&', 'went', 'to', 'right', 'toe', 'then', 'went', 'to', 'all', 'toes', '.']\n",
      "['Terrible', 'short', 'term', 'memory', 'problems', ',', 'lack', 'of', 'motivation', ',', 'weak', 'and', 'wobbly', 'unbalanced', 'feeling', '(', 'walked', 'like', 'a', '90', 'year', 'old', ')', ',', 'not', 'sure', 'footed', 'as', 'I', 'walked', ',', 'overall', 'weak', 'feeling', ',', 'difficulty', 'driving', 'due', 'to', 'muscle', 'function', 'irregularities', ',', 'tightness', 'in', 'throat', 'with', 'occasional', 'choking', 'problem', ',', 'lightheaded', 'foggy', 'brain', '(', 'like', 'being', 'in', 'a', 'stupor', ')', ',', 'loss', 'of', 'endurance', ',', 'heavy', 'legs', 'and', 'arms', ',', 'eye', 'muscle', 'spasms', ',', 'dizziness', '(', 'vertigo', ')', ',', 'lousy', 'sleeping', 'at', 'night', ',', 'terrible', 'concentration', ',', 'bad', 'dreams', 'nightly', ',', 'foot', 'and', 'leg', 'cramps', 'especially', 'at', 'night', 'in', 'bed', ',', 'always', 'exhausted', ',', 'hip', 'joint', 'pain', ',', 'muscular', 'aches', ',', 'swallowing', 'problems', ',', 'hard', 'to', 'get', 'out', 'of', 'bed', 'in', 'the', 'morning', ',', 'constant', 'muscle', 'tension', 'in', 'legs', '(', 'inflexibility', ')', ',', 'sadness', ',', 'mood', 'swings', ',', 'loss', 'of', 'muscle', 'mass', 'in', 'chest', 'and', 'arms', '.']\n",
      "['Terrible', 'short', 'term', 'memory', 'problems', ',', 'lack', 'of', 'motivation', ',', 'weak', 'and', 'wobbly', 'unbalanced', 'feeling', '(', 'walked', 'like', 'a', '90', 'year', 'old', ')', ',', 'not', 'sure', 'footed', 'as', 'I', 'walked', ',', 'overall', 'weak', 'feeling', ',', 'difficulty', 'driving', 'due', 'to', 'muscle', 'function', 'irregularities', ',', 'tightness', 'in', 'throat', 'with', 'occasional', 'choking', 'problem', ',', 'lightheaded', 'foggy', 'brain', '(', 'like', 'being', 'in', 'a', 'stupor', ')', ',', 'loss', 'of', 'endurance', ',', 'heavy', 'legs', 'and', 'arms', ',', 'eye', 'muscle', 'spasms', ',', 'dizziness', '(', 'vertigo', ')', ',', 'lousy', 'sleeping', 'at', 'night', ',', 'terrible', 'concentration', ',', 'bad', 'dreams', 'nightly', ',', 'foot', 'and', 'leg', 'cramps', 'especially', 'at', 'night', 'in', 'bed', ',', 'always', 'exhausted', ',', 'hip', 'joint', 'pain', ',', 'muscular', 'aches', ',', 'swallowing', 'problems', ',', 'hard', 'to', 'get', 'out', 'of', 'bed', 'in', 'the', 'morning', ',', 'constant', 'muscle', 'tension', 'in', 'legs', '(', 'inflexibility', ')', ',', 'sadness', ',', 'mood', 'swings', ',', 'loss', 'of', 'muscle', 'mass', 'in', 'chest', 'and', 'arms', '.']\n",
      "['Sterted', 'with', 'swelling', 'in', 'one', 'ankle', 'then', 'a', 'knee', 'thenb', 'the', 'other', 'knee', '.']\n",
      "['Sterted', 'with', 'swelling', 'in', 'one', 'ankle', 'then', 'a', 'knee', 'thenb', 'the', 'other', 'knee', '.']\n",
      "['Problems', 'sleeping', 'and', 'concentrating', '.']\n",
      "['severe', 'overall', 'body', 'pain', 'in', 'every', 'joint', 'and', 'muscle', 'from', 'my', 'neck', 'down', 'to', 'my', 'big', 'toes', '.']\n",
      "['severe', 'overall', 'body', 'pain', 'in', 'every', 'joint', 'and', 'muscle', 'from', 'my', 'neck', 'down', 'to', 'my', 'big', 'toes', '.']\n",
      "['Severe', '(', 'burning', ')', 'pain', 'in', 'upper', 'and', 'lower', 'left', 'arm', 'and', 'left', 'hand', ',', 'stiffness', 'and', 'pain', 'in', 'both', 'knees', ',', 'pain', 'in', 'upper', 'back', '(', 'over', 'left', 'shoulder', 'blade', ')', '.']\n",
      "['Severe', '(', 'burning', ')', 'pain', 'in', 'upper', 'and', 'lower', 'left', 'arm', 'and', 'left', 'hand', ',', 'stiffness', 'and', 'pain', 'in', 'both', 'knees', ',', 'pain', 'in', 'upper', 'back', '(', 'over', 'left', 'shoulder', 'blade', ')', '.']\n",
      "['Severe', '(', 'burning', ')', 'pain', 'in', 'upper', 'and', 'lower', 'left', 'arm', 'and', 'left', 'hand', ',', 'stiffness', 'and', 'pain', 'in', 'both', 'knees', ',', 'pain', 'in', 'upper', 'back', '(', 'over', 'left', 'shoulder', 'blade', ')', '.']\n",
      "['Severe', '(', 'burning', ')', 'pain', 'in', 'upper', 'and', 'lower', 'left', 'arm', 'and', 'left', 'hand', ',', 'stiffness', 'and', 'pain', 'in', 'both', 'knees', ',', 'pain', 'in', 'upper', 'back', '(', 'over', 'left', 'shoulder', 'blade', ')', '.']\n",
      "['After', 'about', '4', 'months', 'of', 'taking', 'Lipitor', ',', 'one', 'day', 'while', 'walking', ',', 'my', 'left', 'leg', ',', 'below', 'the', 'knee', ',', 'experienced', 'intense', 'pain', 'and', 'stiffness', '.']\n",
      "['After', 'about', '4', 'months', 'of', 'taking', 'Lipitor', ',', 'one', 'day', 'while', 'walking', ',', 'my', 'left', 'leg', ',', 'below', 'the', 'knee', ',', 'experienced', 'intense', 'pain', 'and', 'stiffness', '.']\n",
      "['Severe', 'neck', '/', 'shoulder', '/', 'pain', ',', 'achiness', ',', 'acid', 'reflux', '.']\n",
      "in total 94 discontinuous entities, precision 0.35106382978723405\n",
      "in total 131 overlap entities, precision: 0.5343511450381679\n"
     ]
    }
   ],
   "source": [
    "total_discontinuous = 0\n",
    "total_discontinuous_correct = 0\n",
    "total_overlap = 0\n",
    "total_overlap_correct = 0\n",
    "\n",
    "for sentence_idx in range(len(gt)):\n",
    "    sentence = gt[sentence_idx]['sentence']\n",
    "    ners = gt[sentence_idx]['ner']\n",
    "    for ner in ners:\n",
    "        ner_precision = False\n",
    "        # check whether in the test set out\n",
    "        tokens = [sentence[i] for i in ner['index']]\n",
    "        tokens_type = {'text':tokens, 'type':'adr'}\n",
    "\n",
    "        if tokens_type in output[sentence_idx]['entity']:\n",
    "            ner_precision = True\n",
    "\n",
    "        # discontinuous\n",
    "        if isDiscontinuous(ner['index']):\n",
    "            total_discontinuous += 1\n",
    "            if ner_precision:\n",
    "                total_discontinuous_correct += 1\n",
    "        \n",
    "        # print(ner)\n",
    "        # print(ners)\n",
    "        if isOverlap(ner['index'], ners):\n",
    "            total_overlap += 1\n",
    "            if ner_precision:\n",
    "                total_overlap_correct += 1\n",
    "            else:\n",
    "                print(sentence)\n",
    "\n",
    "print(\"in total\", total_discontinuous, \"discontinuous entities, precision\", total_discontinuous_correct/total_discontinuous)\n",
    "print(\"in total\", total_overlap, \"overlap entities, precision:\",total_overlap_correct/total_overlap)"
   ]
  },
  {
   "cell_type": "code",
   "execution_count": 19,
   "metadata": {},
   "outputs": [
    {
     "name": "stdout",
     "output_type": "stream",
     "text": [
      "94\n"
     ]
    }
   ],
   "source": [
    "print(total_discontinuous)"
   ]
  },
  {
   "cell_type": "code",
   "execution_count": 20,
   "metadata": {},
   "outputs": [
    {
     "name": "stdout",
     "output_type": "stream",
     "text": [
      "33\n"
     ]
    }
   ],
   "source": [
    "print(total_discontinuous_correct)"
   ]
  },
  {
   "cell_type": "code",
   "execution_count": 21,
   "metadata": {},
   "outputs": [
    {
     "name": "stdout",
     "output_type": "stream",
     "text": [
      "131\n"
     ]
    }
   ],
   "source": [
    "print(total_overlap)"
   ]
  },
  {
   "cell_type": "code",
   "execution_count": 22,
   "metadata": {},
   "outputs": [
    {
     "name": "stdout",
     "output_type": "stream",
     "text": [
      "70\n"
     ]
    }
   ],
   "source": [
    "print(total_overlap_correct)"
   ]
  },
  {
   "cell_type": "code",
   "execution_count": null,
   "metadata": {},
   "outputs": [],
   "source": []
  }
 ],
 "metadata": {
  "kernelspec": {
   "display_name": "Python 3",
   "language": "python",
   "name": "python3"
  },
  "language_info": {
   "codemirror_mode": {
    "name": "ipython",
    "version": 3
   },
   "file_extension": ".py",
   "mimetype": "text/x-python",
   "name": "python",
   "nbconvert_exporter": "python",
   "pygments_lexer": "ipython3",
   "version": "3.11.7"
  }
 },
 "nbformat": 4,
 "nbformat_minor": 2
}
